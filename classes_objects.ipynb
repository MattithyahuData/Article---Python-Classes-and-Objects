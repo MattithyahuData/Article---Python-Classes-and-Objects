{
 "cells": [
  {
   "cell_type": "markdown",
   "metadata": {},
   "source": [
    "## **Python Classes and Objects** "
   ]
  },
  {
   "cell_type": "code",
   "execution_count": 17,
   "metadata": {},
   "outputs": [],
   "source": [
    "# Basic Function creation\n",
    "def NewFunction():\n",
    "    '''Basic Function'''\n",
    "    pass\n",
    "\n",
    "# Calling NewFunction\n",
    "NewFunction()"
   ]
  },
  {
   "cell_type": "code",
   "execution_count": 13,
   "metadata": {},
   "outputs": [
    {
     "name": "stdout",
     "output_type": "stream",
     "text": [
      "Hello World!\n"
     ]
    }
   ],
   "source": [
    "# Basic Function creation\n",
    "def TestFunction():\n",
    "    '''Basic Function'''\n",
    "    \n",
    "    # Print statement returning \"Hello World!\" string \n",
    "    print(\"Hello World!\")\n",
    "\n",
    "# Calling NewFunction\n",
    "TestFunction()"
   ]
  },
  {
   "cell_type": "code",
   "execution_count": 2,
   "metadata": {},
   "outputs": [],
   "source": [
    "# Basic Class creation \n",
    "class NewClass:\n",
    "    '''Basic Class'''\n",
    "    pass"
   ]
  },
  {
   "cell_type": "code",
   "execution_count": 11,
   "metadata": {},
   "outputs": [
    {
     "name": "stdout",
     "output_type": "stream",
     "text": [
      "10\n"
     ]
    }
   ],
   "source": [
    "# Creating new class\n",
    "class TestClass:\n",
    "    '''Basic Class'''\n",
    "    x = 10\n",
    "    \n",
    "# Using class to create objects to print the value of x\n",
    "obj = TestClass()\n",
    "\n",
    "# Printing varaible x within object: obj\n",
    "print(obj.x)"
   ]
  },
  {
   "cell_type": "code",
   "execution_count": 21,
   "metadata": {},
   "outputs": [
    {
     "name": "stdout",
     "output_type": "stream",
     "text": [
      "Hello my name is John Doeand I am 30\n"
     ]
    }
   ],
   "source": [
    "# Creating new class\n",
    "class Personinfo:\n",
    "    '''Basic Class'''\n",
    "\n",
    "    # Defining __init__ function \n",
    "    def __init__(self, fname, lname, age):\n",
    "\n",
    "        # Using self to set name and age \n",
    "        self.fname = fname\n",
    "        self.lname = lname\n",
    "        self.age = age\n",
    "\n",
    "    # Function to print input name when called \n",
    "    def myfunc(self):\n",
    "        ''''''\n",
    "        # From the class input this instance method prints a sentence | Age variable converted to string for concatenation\n",
    "        print(\"Hello my name is \" + self.fname + \" \" + self.lname + \"and I am \" + str(self.age))\n",
    "\n",
    "# Using class to create object \n",
    "personinfo_obj = Personinfo(\"John\",\"Doe\",30)\n",
    "\n",
    "# Calling instance function within class to get output \n",
    "personinfo_obj.myfunc()"
   ]
  }
 ],
 "metadata": {
  "interpreter": {
   "hash": "743cc418bf85dc03c7a8b2e88c0c4a43aa5b803c26546c0935c684a5ec19e593"
  },
  "kernelspec": {
   "display_name": "Python 3.9.7 ('base')",
   "language": "python",
   "name": "python3"
  },
  "language_info": {
   "codemirror_mode": {
    "name": "ipython",
    "version": 3
   },
   "file_extension": ".py",
   "mimetype": "text/x-python",
   "name": "python",
   "nbconvert_exporter": "python",
   "pygments_lexer": "ipython3",
   "version": "3.9.7"
  },
  "orig_nbformat": 4
 },
 "nbformat": 4,
 "nbformat_minor": 2
}
